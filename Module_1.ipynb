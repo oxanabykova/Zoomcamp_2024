{
 "cells": [
  {
   "cell_type": "code",
   "execution_count": 119,
   "id": "3d82df5f-dc2d-44f5-a812-0699a5338d71",
   "metadata": {},
   "outputs": [],
   "source": [
    "import pandas as pd\n",
    "import numpy as np"
   ]
  },
  {
   "cell_type": "code",
   "execution_count": 9,
   "id": "ee9d82a7-9faf-4126-b30b-6753875eeadc",
   "metadata": {},
   "outputs": [
    {
     "data": {
      "text/plain": [
       "'2.2.2'"
      ]
     },
     "execution_count": 9,
     "metadata": {},
     "output_type": "execute_result"
    }
   ],
   "source": [
    "#Question 1\n",
    "pd.__version__"
   ]
  },
  {
   "cell_type": "code",
   "execution_count": 11,
   "id": "fa3d9e34-0a01-474e-81cf-48667cfaf864",
   "metadata": {},
   "outputs": [],
   "source": [
    "df = pd.read_csv(r'C:\\Users\\oxana\\Documents\\ДОРО\\Аналитика данных\\Zoomcamp\\laptops.csv')"
   ]
  },
  {
   "cell_type": "code",
   "execution_count": 13,
   "id": "0a1f9b29-f810-4ed6-aeec-d997731f57d0",
   "metadata": {},
   "outputs": [
    {
     "name": "stdout",
     "output_type": "stream",
     "text": [
      "                                              Laptop Status   Brand  \\\n",
      "0  ASUS ExpertBook B1 B1502CBA-EJ0436X Intel Core...    New    Asus   \n",
      "1  Alurin Go Start Intel Celeron N4020/8GB/256GB ...    New  Alurin   \n",
      "2  ASUS ExpertBook B1 B1502CBA-EJ0424X Intel Core...    New    Asus   \n",
      "3  MSI Katana GF66 12UC-082XES Intel Core i7-1270...    New     MSI   \n",
      "4  HP 15S-FQ5085NS Intel Core i5-1235U/16GB/512GB...    New      HP   \n",
      "\n",
      "        Model            CPU  RAM  Storage Storage type       GPU  Screen  \\\n",
      "0  ExpertBook  Intel Core i5    8      512          SSD       NaN    15.6   \n",
      "1          Go  Intel Celeron    8      256          SSD       NaN    15.6   \n",
      "2  ExpertBook  Intel Core i3    8      256          SSD       NaN    15.6   \n",
      "3      Katana  Intel Core i7   16     1000          SSD  RTX 3050    15.6   \n",
      "4         15S  Intel Core i5   16      512          SSD       NaN    15.6   \n",
      "\n",
      "  Touch  Final Price  \n",
      "0    No      1009.00  \n",
      "1    No       299.00  \n",
      "2    No       789.00  \n",
      "3    No      1199.00  \n",
      "4    No       669.01  \n"
     ]
    }
   ],
   "source": [
    "print(df.head())"
   ]
  },
  {
   "cell_type": "code",
   "execution_count": 115,
   "id": "1743ea1e-dfa2-4ca7-8c78-f424a97824e2",
   "metadata": {},
   "outputs": [
    {
     "data": {
      "text/plain": [
       "2160"
      ]
     },
     "execution_count": 115,
     "metadata": {},
     "output_type": "execute_result"
    }
   ],
   "source": [
    "#Question 2\n",
    "df.shape[0]"
   ]
  },
  {
   "cell_type": "code",
   "execution_count": 17,
   "id": "ca63c8ec-17a7-43f4-90b5-e80693b4e098",
   "metadata": {},
   "outputs": [],
   "source": [
    "#Question 3\n",
    "unique_brands_count = df['Brand'].nunique()\n",
    "print(unique_brands_count)"
   ]
  },
  {
   "cell_type": "code",
   "execution_count": 25,
   "id": "b80ba506-498e-4d58-958f-d6ed62059eda",
   "metadata": {},
   "outputs": [
    {
     "name": "stdout",
     "output_type": "stream",
     "text": [
      "3\n"
     ]
    }
   ],
   "source": [
    "#Question 4\n",
    "columns_with_na = df.isnull().sum()\n",
    "num_columns_with_missing = (columns_with_na > 0).sum()\n",
    "print(num_columns_with_missing)"
   ]
  },
  {
   "cell_type": "code",
   "execution_count": 27,
   "id": "ae95747d-b887-49ba-a004-2f042c936eca",
   "metadata": {},
   "outputs": [
    {
     "name": "stdout",
     "output_type": "stream",
     "text": [
      "3936.0\n"
     ]
    }
   ],
   "source": [
    "#Question 5\n",
    "dell_df = df[df['Brand'] == \"Dell\"]\n",
    "max_final_price = dell_df['Final Price'].max()\n",
    "print(max_final_price)"
   ]
  },
  {
   "cell_type": "code",
   "execution_count": 51,
   "id": "812d9f9e-bcdf-4137-9481-11025ac04427",
   "metadata": {},
   "outputs": [
    {
     "name": "stdout",
     "output_type": "stream",
     "text": [
      "15.6\n"
     ]
    }
   ],
   "source": [
    "#Question 6\n",
    "median_screen = df['Screen'].median()\n",
    "print(median_screen)"
   ]
  },
  {
   "cell_type": "code",
   "execution_count": 61,
   "id": "b05313a7-f38c-49f4-9af7-a693c092be94",
   "metadata": {},
   "outputs": [],
   "source": [
    "mode_value = df['Screen'].mode()[0]\n",
    "print(mode_value)"
   ]
  },
  {
   "cell_type": "code",
   "execution_count": 63,
   "id": "3d585638-98a5-4899-9ab6-dd7fed58bd2c",
   "metadata": {},
   "outputs": [
    {
     "name": "stdout",
     "output_type": "stream",
     "text": [
      "15.6\n"
     ]
    }
   ],
   "source": []
  },
  {
   "cell_type": "code",
   "execution_count": 67,
   "id": "6cda21c5-0b92-41d0-ac75-acfc0fa7b43f",
   "metadata": {},
   "outputs": [
    {
     "data": {
      "text/plain": [
       "0       15.6\n",
       "1       15.6\n",
       "2       15.6\n",
       "3       15.6\n",
       "4       15.6\n",
       "        ... \n",
       "2155    17.3\n",
       "2156    17.3\n",
       "2157    17.3\n",
       "2158    13.4\n",
       "2159    13.4\n",
       "Name: Screen, Length: 2160, dtype: float64"
      ]
     },
     "execution_count": 67,
     "metadata": {},
     "output_type": "execute_result"
    }
   ],
   "source": [
    "df['Screen'].fillna(mode_value)"
   ]
  },
  {
   "cell_type": "code",
   "execution_count": 69,
   "id": "e4648509-abc5-4b34-ac9c-c63adc062005",
   "metadata": {},
   "outputs": [
    {
     "name": "stdout",
     "output_type": "stream",
     "text": [
      "0\n"
     ]
    }
   ],
   "source": [
    "print(df['Screen'].isnull().sum())"
   ]
  },
  {
   "cell_type": "code",
   "execution_count": 71,
   "id": "2621e1b0-9ed5-4863-9d3b-64c727cd5835",
   "metadata": {},
   "outputs": [
    {
     "data": {
      "text/plain": [
       "15.6"
      ]
     },
     "execution_count": 71,
     "metadata": {},
     "output_type": "execute_result"
    }
   ],
   "source": [
    "df['Screen'].median()"
   ]
  },
  {
   "cell_type": "code",
   "execution_count": 113,
   "id": "e3b57a3d-ce7a-41ee-bb0d-a1dfdbc78da6",
   "metadata": {},
   "outputs": [],
   "source": [
    "#Question 7\n",
    "innjoo_df = df[df['Brand'] == \"Innjoo\"]\n",
    "innjoo_df = innjoo_df[['RAM', 'Storage', 'Screen']]\n",
    "print(innjoo_df.head())"
   ]
  },
  {
   "cell_type": "code",
   "execution_count": 79,
   "id": "b4831b8d-c7ff-4173-bb15-e973d891967c",
   "metadata": {},
   "outputs": [],
   "source": [
    "#turn into numpy array\n",
    "X = innjoo_df.to_numpy()"
   ]
  },
  {
   "cell_type": "code",
   "execution_count": 81,
   "id": "0b1860a7-e0a4-4ccc-bfab-a9109ebee0fb",
   "metadata": {},
   "outputs": [
    {
     "name": "stdout",
     "output_type": "stream",
     "text": [
      "[[  8.  256.   15.6]\n",
      " [  8.  512.   15.6]\n",
      " [  4.   64.   14.1]\n",
      " [  6.   64.   14.1]\n",
      " [  6.  128.   14.1]\n",
      " [  6.  128.   14.1]]\n"
     ]
    }
   ],
   "source": [
    "print(X)"
   ]
  },
  {
   "cell_type": "code",
   "execution_count": 117,
   "id": "c1d3d818-d16c-406c-9495-63e8ce528311",
   "metadata": {},
   "outputs": [
    {
     "name": "stdout",
     "output_type": "stream",
     "text": [
      "91.29988062995588\n"
     ]
    }
   ],
   "source": [
    "#matrix-matrix multiplication (XTX)\n",
    "XTX = np.dot(X.T, X) #transpose X * X\n",
    "\n",
    "#the inverse of XTX\n",
    "XTX_inv = np.linalg.inv(XTX)\n",
    "\n",
    "#create the array y\n",
    "y = np.array([1100, 1300, 800, 900, 1000, 1100])\n",
    "\n",
    "#compute w\n",
    "X_T = X.T #transose X\n",
    "w = np.dot(XTX_inv, X_T).dot(y) #inverse XTX * transpose X * y\n",
    "\n",
    "# 7. Sum of all elements of w\n",
    "result_sum = np.sum(w)\n",
    "print(result_sum)"
   ]
  },
  {
   "cell_type": "code",
   "execution_count": null,
   "id": "1799dabf-5f03-4947-94d9-a1f48a028627",
   "metadata": {},
   "outputs": [],
   "source": []
  }
 ],
 "metadata": {
  "kernelspec": {
   "display_name": "Python 3",
   "language": "python",
   "name": "python3"
  },
  "language_info": {
   "codemirror_mode": {
    "name": "ipython",
    "version": 3
   },
   "file_extension": ".py",
   "mimetype": "text/x-python",
   "name": "python",
   "nbconvert_exporter": "python",
   "pygments_lexer": "ipython3",
   "version": "3.12.4"
  }
 },
 "nbformat": 4,
 "nbformat_minor": 5
}
